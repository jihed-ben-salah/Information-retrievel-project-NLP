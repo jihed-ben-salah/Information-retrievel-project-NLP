{
 "cells": [
  {
   "cell_type": "code",
   "execution_count": 52,
   "metadata": {},
   "outputs": [],
   "source": [
    "from transformers import AutoTokenizer, CamembertForQuestionAnswering,pipeline\n",
    "import torch"
   ]
  },
  {
   "cell_type": "code",
   "execution_count": 53,
   "metadata": {},
   "outputs": [
    {
     "name": "stderr",
     "output_type": "stream",
     "text": [
      "You are using a model of type roberta to instantiate a model of type camembert. This is not supported for all configurations of models and can yield errors.\n"
     ]
    }
   ],
   "source": [
    "tokenizer = AutoTokenizer.from_pretrained(\"deepset/roberta-base-squad2\")\n",
    "model = CamembertForQuestionAnswering.from_pretrained(\"deepset/roberta-base-squad2\")"
   ]
  },
  {
   "cell_type": "code",
   "execution_count": 54,
   "metadata": {},
   "outputs": [],
   "source": [
    "import json\n",
    "\n",
    "with open('data2.json', 'r') as f:\n",
    "    data = json.load(f)"
   ]
  },
  {
   "cell_type": "code",
   "execution_count": 55,
   "metadata": {},
   "outputs": [
    {
     "data": {
      "text/plain": [
       "list"
      ]
     },
     "execution_count": 55,
     "metadata": {},
     "output_type": "execute_result"
    }
   ],
   "source": [
    "type(data)"
   ]
  },
  {
   "cell_type": "code",
   "execution_count": 56,
   "metadata": {},
   "outputs": [],
   "source": [
    "# Define the corpus of documents\n",
    "corpus=[]\n",
    "for i in range(len(data)):\n",
    "    if data[i]['context'] not in ['\\n\\t',None]:\n",
    "        corpus.append(data[i]['context']) \n",
    "    if data[i]['context2'] not in ['\\n\\t',None]:\n",
    "        corpus.append(data[i]['context2'])"
   ]
  },
  {
   "cell_type": "code",
   "execution_count": 57,
   "metadata": {},
   "outputs": [
    {
     "data": {
      "text/plain": [
       "267"
      ]
     },
     "execution_count": 57,
     "metadata": {},
     "output_type": "execute_result"
    }
   ],
   "source": [
    "len(corpus)"
   ]
  },
  {
   "cell_type": "code",
   "execution_count": 58,
   "metadata": {},
   "outputs": [
    {
     "name": "stdout",
     "output_type": "stream",
     "text": [
      "Requirement already satisfied: stop_words in /home/Djoo/.conda/envs/pose-transformer/lib/python3.8/site-packages (2018.7.23)\n",
      "Note: you may need to restart the kernel to use updated packages.\n"
     ]
    }
   ],
   "source": [
    "pip install stop_words"
   ]
  },
  {
   "cell_type": "code",
   "execution_count": 59,
   "metadata": {},
   "outputs": [],
   "source": [
    "from stop_words import get_stop_words\n",
    "\n",
    "french_stop_words = get_stop_words('french')\n"
   ]
  },
  {
   "cell_type": "code",
   "execution_count": 81,
   "metadata": {},
   "outputs": [
    {
     "name": "stdout",
     "output_type": "stream",
     "text": [
      "Best context for question 'Les  différents travaux en matière de métrologie de «PMEL» lui ont permis d’être reconnu par qui?': 'Le laboratoire de Métrologie de l’Armée de l’Air «PMEL» a été créé en Novembre 1985. Ses différents travaux en matière de métrologie lui ont permis d’être reconnu par le Centre de Métrologie Américain (AFMETCAL) depuis 1989 pour les domaines Electrique, Physique et Dimensionnel et d’être accrédité par le Comité Français d’Accréditation (COFRAC) depuis l’année 2000 pour le domaine « Electricité–Magnétisme ».'\n"
     ]
    }
   ],
   "source": [
    "from sklearn.feature_extraction.text import TfidfVectorizer\n",
    "from sklearn.metrics.pairwise import cosine_similarity\n",
    "\n",
    "# Define the question\n",
    "question2 = \"Qulle est la date de création de laboratoire de Métrologie de l’Armée de l’Air «PMEL» ?\"\n",
    "question='Les  différents travaux en matière de métrologie de «PMEL» lui ont permis d’être reconnu par qui?'\n",
    "question3='Les  différents travaux en matière de métrologie de «PMEL» lui ont permis d’être reconnu pour quels domaines?'\n",
    "# Preprocess the corpus\n",
    "def TF_IDF(question):\n",
    "    vectorizer = TfidfVectorizer(stop_words= french_stop_words)\n",
    "    corpus_tfidf = vectorizer.fit_transform(corpus)\n",
    "\n",
    "    # Compute the TF-IDF scores for the question\n",
    "    question_tfidf = vectorizer.transform([question])\n",
    "\n",
    "    # Compute the cosine similarity between the question and each document in the corpus\n",
    "    cos_similarities = cosine_similarity(question_tfidf, corpus_tfidf)\n",
    "\n",
    "    # Select the document with the highest cosine similarity as the best context for the question\n",
    "    best_doc_idx = cos_similarities.argmax()\n",
    "    best_doc = corpus[best_doc_idx]\n",
    "\n",
    "    print(\"Best context for question '{}': '{}'\".format(question, best_doc))"
   ]
  },
  {
   "cell_type": "code",
   "execution_count": 82,
   "metadata": {},
   "outputs": [
    {
     "data": {
      "text/plain": [
       "'Le laboratoire de Métrologie de l’Armée de l’Air «PMEL» a été créé en Novembre 1985. Ses différents travaux en matière de métrologie lui ont permis d’être reconnu par le Centre de Métrologie Américain (AFMETCAL) depuis 1989 pour les domaines Electrique, Physique et Dimensionnel et d’être accrédité par le Comité Français d’Accréditation (COFRAC) depuis l’année 2000 pour le domaine « Electricité–Magnétisme ».'"
      ]
     },
     "execution_count": 82,
     "metadata": {},
     "output_type": "execute_result"
    }
   ],
   "source": [
    "best_doc"
   ]
  },
  {
   "cell_type": "code",
   "execution_count": 83,
   "metadata": {},
   "outputs": [
    {
     "name": "stdout",
     "output_type": "stream",
     "text": [
      "\n",
      "Réponse:  {'score': 0.1797487586736679, 'start': 170, 'end': 200, 'answer': 'Centre de Métrologie Américain'}\n"
     ]
    }
   ],
   "source": [
    "nlp = pipeline(\"question-answering\", model=\"deepset/roberta-base-squad2\", tokenizer=\"deepset/roberta-base-squad2\")\n",
    "\n",
    "inputs = tokenizer(question,best_doc, return_tensors=\"pt\")\n",
    "with torch.no_grad():\n",
    "    outputs = model(**inputs)\n",
    "result = nlp(question=question, context=best_doc)\n",
    "\n",
    "\n",
    "print(\"\\nRéponse: \",result)"
   ]
  },
  {
   "cell_type": "code",
   "execution_count": null,
   "metadata": {},
   "outputs": [],
   "source": []
  }
 ],
 "metadata": {
  "kernelspec": {
   "display_name": "Python 3.8.16 ('pose-transformer')",
   "language": "python",
   "name": "python3"
  },
  "language_info": {
   "codemirror_mode": {
    "name": "ipython",
    "version": 3
   },
   "file_extension": ".py",
   "mimetype": "text/x-python",
   "name": "python",
   "nbconvert_exporter": "python",
   "pygments_lexer": "ipython3",
   "version": "3.8.16"
  },
  "orig_nbformat": 4,
  "vscode": {
   "interpreter": {
    "hash": "639a6c0ac18d2cf70b7350ec67ec1ac521094e20f10e41daf610111777e46151"
   }
  }
 },
 "nbformat": 4,
 "nbformat_minor": 2
}
